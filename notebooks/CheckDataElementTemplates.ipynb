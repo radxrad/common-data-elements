{
 "cells": [
  {
   "cell_type": "markdown",
   "id": "7650c27a-5dc3-4a93-993a-c3f7632920b5",
   "metadata": {},
   "source": [
    "# CheckDataElementTemplates\n",
    "This notebooks check the RADx-rad Data Element template files for empty fields and does consistency checks.\n",
    "\n",
    "Author: Peter W. Rose, pwrose@ucsd.edu"
   ]
  },
  {
   "cell_type": "code",
   "execution_count": 1,
   "id": "16914214",
   "metadata": {},
   "outputs": [],
   "source": [
    "import pandas as pd\n",
    "from utils import download_data_element_templates, check_empty_field, check_whitespace, check_field_types"
   ]
  },
  {
   "cell_type": "code",
   "execution_count": 2,
   "id": "477e7ead-3dc0-46f7-89ae-d28f7ca74ab5",
   "metadata": {},
   "outputs": [],
   "source": [
    "pd.options.display.max_rows = None  # display all rows\n",
    "pd.options.display.max_columns = None  # display all columsns\n",
    "pd.set_option('display.max_colwidth', None)"
   ]
  },
  {
   "cell_type": "markdown",
   "id": "1c59daba-1eb5-4845-b893-0cb837c14fb6",
   "metadata": {},
   "source": [
    "### Download the RADx-rad Data Element template files\n",
    "The templates are concatenated into a single dataframe."
   ]
  },
  {
   "cell_type": "code",
   "execution_count": 3,
   "id": "dd7209fb-554e-4307-bfc5-1968f6080b30",
   "metadata": {},
   "outputs": [],
   "source": [
    "data_elements = download_data_element_templates()"
   ]
  },
  {
   "cell_type": "markdown",
   "id": "12f2b673-d903-4398-bf44-d81e9e93addf",
   "metadata": {},
   "source": [
    "# Check for empty columns\n",
    "The following columns must contain text."
   ]
  },
  {
   "cell_type": "code",
   "execution_count": 4,
   "id": "f0628e9e-a4b9-45e9-8d80-be79cfe5c0f0",
   "metadata": {},
   "outputs": [
    {
     "data": {
      "text/plain": [
       "False"
      ]
     },
     "execution_count": 4,
     "metadata": {},
     "output_type": "execute_result"
    }
   ],
   "source": [
    "check_empty_field(\"Variable / Field Name\", data_elements)"
   ]
  },
  {
   "cell_type": "code",
   "execution_count": 5,
   "id": "379502d7-74a7-4bbc-89e6-f19908c35e39",
   "metadata": {},
   "outputs": [
    {
     "data": {
      "text/plain": [
       "False"
      ]
     },
     "execution_count": 5,
     "metadata": {},
     "output_type": "execute_result"
    }
   ],
   "source": [
    "check_empty_field(\"Section Header\", data_elements)"
   ]
  },
  {
   "cell_type": "code",
   "execution_count": 6,
   "id": "4a11cb45-70fc-406d-9744-9a6bad5f2567",
   "metadata": {},
   "outputs": [
    {
     "data": {
      "text/plain": [
       "False"
      ]
     },
     "execution_count": 6,
     "metadata": {},
     "output_type": "execute_result"
    }
   ],
   "source": [
    "check_empty_field(\"Field Type\", data_elements)"
   ]
  },
  {
   "cell_type": "code",
   "execution_count": 7,
   "id": "b9fcb47e-42c8-4e06-a4ce-afe5b66b5019",
   "metadata": {},
   "outputs": [
    {
     "data": {
      "text/plain": [
       "False"
      ]
     },
     "execution_count": 7,
     "metadata": {},
     "output_type": "execute_result"
    }
   ],
   "source": [
    "check_empty_field(\"Field Label\", data_elements)"
   ]
  },
  {
   "cell_type": "code",
   "execution_count": 8,
   "id": "a7ffb1ff-92f7-4bdb-99bc-fc16fb027aaf",
   "metadata": {},
   "outputs": [
    {
     "data": {
      "text/plain": [
       "False"
      ]
     },
     "execution_count": 8,
     "metadata": {},
     "output_type": "execute_result"
    }
   ],
   "source": [
    "check_empty_field(\"CDE Reference\", data_elements)"
   ]
  },
  {
   "cell_type": "markdown",
   "id": "6d94d8ba-4d72-4e49-b3e2-0b170da946da",
   "metadata": {},
   "source": [
    "# Check for whitespace in Field Names\n",
    "Field Names should not contain whitespace."
   ]
  },
  {
   "cell_type": "code",
   "execution_count": 9,
   "id": "eb76cf4c-fb3b-4b2e-9a57-f3fd411eba9c",
   "metadata": {},
   "outputs": [],
   "source": [
    "# data_elements"
   ]
  },
  {
   "cell_type": "code",
   "execution_count": 10,
   "id": "a2f4a872-c08c-4e79-82fa-ac14fd98cb44",
   "metadata": {},
   "outputs": [
    {
     "name": "stdout",
     "output_type": "stream",
     "text": [
      "Variable / Field Name: ok\n"
     ]
    }
   ],
   "source": [
    "check_whitespace(\"Variable / Field Name\", data_elements)"
   ]
  },
  {
   "cell_type": "markdown",
   "id": "4e253771-cdda-4058-b8bb-2174a2dfe080",
   "metadata": {},
   "source": [
    "# Check Field Types\n",
    "Check that field types match the defined field types."
   ]
  },
  {
   "cell_type": "code",
   "execution_count": 11,
   "id": "6668d246-3f1f-4e81-b4e1-4c41f3d5f37b",
   "metadata": {},
   "outputs": [
    {
     "data": {
      "text/plain": [
       "''"
      ]
     },
     "execution_count": 11,
     "metadata": {},
     "output_type": "execute_result"
    }
   ],
   "source": [
    "check_field_types(data_elements)"
   ]
  },
  {
   "cell_type": "code",
   "execution_count": 12,
   "id": "46868cc5-9363-4eba-8f2f-65213273aa10",
   "metadata": {},
   "outputs": [
    {
     "data": {
      "text/plain": [
       "CDE Reference\n",
       "RADx-rad DCC                                                                                                                                                                                                         610\n",
       "NWSS_DCIPHER_Data_Dictionary_v2.0.0_20210319|https://www.cdc.gov/nwss/reporting.html                                                                                                                                  93\n",
       "RADx-rad Minimum CDE                                                                                                                                                                                                  48\n",
       "RADx-rad DCC|https://www.ncbi.nlm.nih.gov/taxonomy                                                                                                                                                                    44\n",
       "RADx-rad DCC|https://www.medcalc.org/calc/diagnostic_test.php                                                                                                                                                         19\n",
       "RADx-rad DCC|https://doi.org/10.1101/2023.02.27.530294                                                                                                                                                                17\n",
       "RADx-rad DCC|https://www.fda.gov/files/medical%20devices/published/Guidance-for-Industry-and-FDA-Staff---Statistical-Guidance-on-Reporting-Results-from-Studies-Evaluating-Diagnostic-Tests-%28PDF-Version%29.pdf     12\n",
       "RADx-UP|https://radx-up.org/research/cdes/                                                                                                                                                                            11\n",
       "RADx-rad DCC|https://www.uniprot.org/                                                                                                                                                                                  9\n",
       "RADx-rad DCC|http://purl.obolibrary.org/obo/OBI_0001951                                                                                                                                                                5\n",
       "RADx-rad DCC|http://purl.obolibrary.org/obo/OBI_0001946                                                                                                                                                                5\n",
       "RADx-rad DCC|http://purl.obolibrary.org/obo/OBI_0000405                                                                                                                                                                3\n",
       "RADx-rad DCC                                                                                                                                                                                                           3\n",
       "RADx-rad DCC|https://iupac.org/who-we-are/divisions/division-details/inchi/                                                                                                                                            3\n",
       "RADx-rad DCC|https://ncbi.nlm.nih.gov/pmc/articles/PMC2556583                                                                                                                                                          2\n",
       "RADx-rad DCC|https://www.gisaid.org                                                                                                                                                                                    2\n",
       "RADx-rad DCC|https://cov-lineages.org                                                                                                                                                                                  1\n",
       "RADx-rad DCC|http://purl.obolibrary.org/obo/STATO_0000190                                                                                                                                                              1\n",
       "RADx-rad DCC|https://www.ncbi.nlm.nih.gov/genbank                                                                                                                                                                      1\n",
       "RADx-rad Global Codebook                                                                                                                                                                                               1\n",
       "RADx-rad DCC|https://www.who.int/en/activities/tracking-SARS-CoV-2-variants                                                                                                                                            1\n",
       "RADx-rad DCC|https://www.beiresources.org                                                                                                                                                                              1\n",
       "RADx-rad DCC|https://www.cdc.gov/coronavirus/2019-ncov/vaccines/different-vaccines/overview-COVID-19-vaccines.html?s_cid=11758:covid%20vaccine%20brands:sem.ga:p:RG:GM:gen:PTN:FY22                                    1\n",
       "RADx-rad DCC|http://edamontology.org/data_2295                                                                                                                                                                         1\n",
       "RADx-rad DCC|https://pubchem.ncbi.nlm.nih.gov/                                                                                                                                                                         1\n",
       "RADx-rad DCC|https://en.wikipedia.org/wiki/P-value                                                                                                                                                                     1\n",
       "RADx-rad DCC|https://www.olink.com/faq/what-is-the-high-dose-hook-effect/                                                                                                                                              1\n",
       "RADx-rad DCC|http://edamontology.org/data_0987                                                                                                                                                                         1\n",
       "RADx-rad DCC|https://cov-lineages.org/                                                                                                                                                                                 1\n",
       "RADx-rad DCC|http://edamontology.org/data_2299                                                                                                                                                                         1\n",
       "RADx-rad DCC|https://www.who.int/en/activities/tracking-SARS-CoV-2-variants/                                                                                                                                           1\n",
       "RADX-rad DCC|https://www.uniprot.org/                                                                                                                                                                                  1\n",
       "RADx-rad DCC|https://doi.org/10.1093/nar/28.12.e63                                                                                                                                                                     1\n",
       "RADx-rad DCC|https://doi.org/10.1093/nar/28.12.e64                                                                                                                                                                     1\n",
       "RADx-rad DCC|https://doi.org/10.1093/nar/28.12.e65                                                                                                                                                                     1\n",
       "RADx-rad DCC|https://doi.org/10.1093/nar/28.12.e66                                                                                                                                                                     1\n",
       "RADx-rad DCC|https://doi.org/10.1093/nar/28.12.e67                                                                                                                                                                     1\n",
       "RADx-rad DCC|https://doi.org/10.1093/nar/28.12.e68                                                                                                                                                                     1\n",
       "RADx-rad DCC|https://doi.org/10.1093/nar/28.12.e69                                                                                                                                                                     1\n",
       "RADx-rad DCC|https://doi.org/10.1093/nar/28.12.e70                                                                                                                                                                     1\n",
       "RADx-rad DCC|https://doi.org/10.1093/nar/28.12.e71                                                                                                                                                                     1\n",
       "RADx-rad DCC|https://doi.org/10.1093/nar/28.12.e72                                                                                                                                                                     1\n",
       "RADx-rad DCC|https://doi.org/10.1093/nar/28.12.e73                                                                                                                                                                     1\n",
       "RADx-rad DCC|https://doi.org/10.1093/nar/28.12.e74                                                                                                                                                                     1\n",
       "RADx-rad DCC|https://doi.org/10.1093/nar/28.12.e75                                                                                                                                                                     1\n",
       "RADx-rad DCC|https://doi.org/10.1093/nar/28.12.e76                                                                                                                                                                     1\n",
       "RADx-rad DCC|https://doi.org/10.1093/nar/28.12.e77                                                                                                                                                                     1\n",
       "RADx-rad DCC|https://doi.org/10.1093/nar/28.12.e78                                                                                                                                                                     1\n",
       "RADx-rad DCC|http://purl.bioontology.org/ontology/LNC/LA26418-6                                                                                                                                                        1\n",
       "RADx-rad DCC|http://www.bioassayontology.org/bao#BAO_0000564                                                                                                                                                           1\n",
       "RADx-rad DCC|https://www.fda.gov/regulatory-information/search-fda-guidance-documents/statistical-guidance-reporting-results-studies-evaluating-diagnostic-tests-guidance-industry-and-fda#7                           1\n",
       "Name: count, dtype: int64"
      ]
     },
     "execution_count": 12,
     "metadata": {},
     "output_type": "execute_result"
    }
   ],
   "source": [
    "data_elements[\"CDE Reference\"].value_counts()"
   ]
  },
  {
   "cell_type": "markdown",
   "id": "a284612a-dee8-4f7e-ab5d-cb74c9051791",
   "metadata": {},
   "source": [
    "## Spell check"
   ]
  },
  {
   "cell_type": "code",
   "execution_count": 13,
   "id": "51f9a893-c2a3-4529-81f6-b50261f8e97e",
   "metadata": {},
   "outputs": [],
   "source": [
    "import re\n",
    "from spellchecker import SpellChecker\n",
    "\n",
    "# Initialize spell checker\n",
    "spell = SpellChecker()\n",
    "\n",
    "# Function to check for typos in a string\n",
    "def check_typos(text):\n",
    "    # Split by whitespace, comma, semicolon, |, (, )\n",
    "    words = re.split(r'[,.\\s;:|()?/-_]+', text)\n",
    "    misspelled = spell.unknown(words)\n",
    "    return misspelled\n",
    "\n",
    "# Check for typos\n",
    "# variable_typos = data_elements[\"Variable / Field Name\"].apply(check_typos)\n",
    "# variable_typos\n",
    "\n",
    "# field_label_typos = data_elements[\"Field Label\"].apply(check_typos)\n",
    "# field_label_typos\n",
    "\n",
    "# section_typos = data_elements[\"Section Header\"].apply(check_typos)\n",
    "# section_typos\n",
    "\n",
    "# choices_typos = data_elements[\"Choices, Calculations, OR Slider Labels\"].apply(check_typos)\n",
    "# choices_typos\n",
    "\n",
    "# notes_typos = data_elements[\"Field Note\"].apply(check_typos)\n",
    "# notes_typos"
   ]
  },
  {
   "cell_type": "code",
   "execution_count": null,
   "id": "9088af74-ca57-4b09-a2d5-a141b2bbaa02",
   "metadata": {},
   "outputs": [],
   "source": []
  },
  {
   "cell_type": "code",
   "execution_count": null,
   "id": "a26ad191-cab7-4ca9-a0a2-6a1ca026d5ed",
   "metadata": {},
   "outputs": [],
   "source": []
  }
 ],
 "metadata": {
  "kernelspec": {
   "display_name": "Python 3 (ipykernel)",
   "language": "python",
   "name": "python3"
  },
  "language_info": {
   "codemirror_mode": {
    "name": "ipython",
    "version": 3
   },
   "file_extension": ".py",
   "mimetype": "text/x-python",
   "name": "python",
   "nbconvert_exporter": "python",
   "pygments_lexer": "ipython3",
   "version": "3.11.10"
  }
 },
 "nbformat": 4,
 "nbformat_minor": 5
}
