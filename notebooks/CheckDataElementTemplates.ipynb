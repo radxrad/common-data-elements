{
 "cells": [
  {
   "cell_type": "markdown",
   "id": "7650c27a-5dc3-4a93-993a-c3f7632920b5",
   "metadata": {},
   "source": [
    "# CheckDataElementTemplates\n",
    "This notebooks check the RADx-rad Data Element template files for empty fields and does consistency checks.\n",
    "\n",
    "Author: Peter W. Rose, pwrose@ucsd.edu"
   ]
  },
  {
   "cell_type": "code",
   "execution_count": 1,
   "id": "16914214",
   "metadata": {},
   "outputs": [],
   "source": [
    "import pandas as pd\n",
    "from utils import download_data_element_templates, check_empty_field, check_whitespace, check_field_types"
   ]
  },
  {
   "cell_type": "code",
   "execution_count": 2,
   "id": "477e7ead-3dc0-46f7-89ae-d28f7ca74ab5",
   "metadata": {},
   "outputs": [],
   "source": [
    "pd.options.display.max_rows = None  # display all rows\n",
    "pd.options.display.max_columns = None  # display all columsns\n",
    "pd.set_option('display.max_colwidth', None)"
   ]
  },
  {
   "cell_type": "markdown",
   "id": "1c59daba-1eb5-4845-b893-0cb837c14fb6",
   "metadata": {},
   "source": [
    "### Download the RADx-rad Data Element template files\n",
    "The templates are concatenated into a single dataframe."
   ]
  },
  {
   "cell_type": "code",
   "execution_count": 3,
   "id": "dd7209fb-554e-4307-bfc5-1968f6080b30",
   "metadata": {},
   "outputs": [],
   "source": [
    "data_elements = download_data_element_templates()"
   ]
  },
  {
   "cell_type": "markdown",
   "id": "12f2b673-d903-4398-bf44-d81e9e93addf",
   "metadata": {},
   "source": [
    "# Check for empty columns\n",
    "The following columns must contain text."
   ]
  },
  {
   "cell_type": "code",
   "execution_count": 4,
   "id": "f0628e9e-a4b9-45e9-8d80-be79cfe5c0f0",
   "metadata": {},
   "outputs": [
    {
     "data": {
      "text/plain": [
       "False"
      ]
     },
     "execution_count": 4,
     "metadata": {},
     "output_type": "execute_result"
    }
   ],
   "source": [
    "check_empty_field(\"Variable / Field Name\", data_elements)"
   ]
  },
  {
   "cell_type": "code",
   "execution_count": 5,
   "id": "379502d7-74a7-4bbc-89e6-f19908c35e39",
   "metadata": {},
   "outputs": [
    {
     "data": {
      "text/plain": [
       "False"
      ]
     },
     "execution_count": 5,
     "metadata": {},
     "output_type": "execute_result"
    }
   ],
   "source": [
    "check_empty_field(\"Section Header\", data_elements)"
   ]
  },
  {
   "cell_type": "code",
   "execution_count": 6,
   "id": "4a11cb45-70fc-406d-9744-9a6bad5f2567",
   "metadata": {},
   "outputs": [
    {
     "data": {
      "text/plain": [
       "False"
      ]
     },
     "execution_count": 6,
     "metadata": {},
     "output_type": "execute_result"
    }
   ],
   "source": [
    "check_empty_field(\"Field Type\", data_elements)"
   ]
  },
  {
   "cell_type": "code",
   "execution_count": 7,
   "id": "b9fcb47e-42c8-4e06-a4ce-afe5b66b5019",
   "metadata": {},
   "outputs": [
    {
     "data": {
      "text/plain": [
       "False"
      ]
     },
     "execution_count": 7,
     "metadata": {},
     "output_type": "execute_result"
    }
   ],
   "source": [
    "check_empty_field(\"Field Label\", data_elements)"
   ]
  },
  {
   "cell_type": "code",
   "execution_count": 8,
   "id": "a7ffb1ff-92f7-4bdb-99bc-fc16fb027aaf",
   "metadata": {},
   "outputs": [
    {
     "data": {
      "text/plain": [
       "False"
      ]
     },
     "execution_count": 8,
     "metadata": {},
     "output_type": "execute_result"
    }
   ],
   "source": [
    "check_empty_field(\"CDE Reference\", data_elements)"
   ]
  },
  {
   "cell_type": "markdown",
   "id": "6d94d8ba-4d72-4e49-b3e2-0b170da946da",
   "metadata": {},
   "source": [
    "# Check for whitespace in Field Names\n",
    "Field Names should not contain whitespace."
   ]
  },
  {
   "cell_type": "code",
   "execution_count": 9,
   "id": "eb76cf4c-fb3b-4b2e-9a57-f3fd411eba9c",
   "metadata": {},
   "outputs": [],
   "source": [
    "# data_elements"
   ]
  },
  {
   "cell_type": "code",
   "execution_count": 10,
   "id": "a2f4a872-c08c-4e79-82fa-ac14fd98cb44",
   "metadata": {},
   "outputs": [
    {
     "name": "stdout",
     "output_type": "stream",
     "text": [
      "Variable / Field Name: ok\n"
     ]
    }
   ],
   "source": [
    "check_whitespace(\"Variable / Field Name\", data_elements)"
   ]
  },
  {
   "cell_type": "markdown",
   "id": "4e253771-cdda-4058-b8bb-2174a2dfe080",
   "metadata": {},
   "source": [
    "# Check Field Types\n",
    "Check that field types match the defined field types."
   ]
  },
  {
   "cell_type": "code",
   "execution_count": 11,
   "id": "6668d246-3f1f-4e81-b4e1-4c41f3d5f37b",
   "metadata": {},
   "outputs": [
    {
     "data": {
      "text/plain": [
       "''"
      ]
     },
     "execution_count": 11,
     "metadata": {},
     "output_type": "execute_result"
    }
   ],
   "source": [
    "check_field_types(data_elements)"
   ]
  }
 ],
 "metadata": {
  "kernelspec": {
   "display_name": "Python 3 (ipykernel)",
   "language": "python",
   "name": "python3"
  },
  "language_info": {
   "codemirror_mode": {
    "name": "ipython",
    "version": 3
   },
   "file_extension": ".py",
   "mimetype": "text/x-python",
   "name": "python",
   "nbconvert_exporter": "python",
   "pygments_lexer": "ipython3",
   "version": "3.11.8"
  }
 },
 "nbformat": 4,
 "nbformat_minor": 5
}
