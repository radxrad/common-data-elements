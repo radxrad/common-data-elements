{
 "cells": [
  {
   "cell_type": "markdown",
   "id": "5dea0791-b211-4e03-8fec-6467a5531b83",
   "metadata": {},
   "source": [
    "# ConcatenateRADx-radDicts\n",
    "This notebook concatenates the individual RADx-rad data dictionary template files (Google sheets) and saves the data elements in a .csv file."
   ]
  },
  {
   "cell_type": "code",
   "execution_count": 1,
   "id": "78f20430-4b8c-4cc5-bb0c-0baacac7a529",
   "metadata": {},
   "outputs": [],
   "source": [
    "import os\n",
    "from utils import *"
   ]
  },
  {
   "cell_type": "markdown",
   "id": "8b51d479-946c-4a0d-b073-b4381b8f3047",
   "metadata": {
    "tags": []
   },
   "source": [
    "### Read and concatenate the RADx-rad data dictionary template files"
   ]
  },
  {
   "cell_type": "code",
   "execution_count": 2,
   "id": "94af036d-2ee4-4650-931a-0bdb47783528",
   "metadata": {},
   "outputs": [
    {
     "name": "stdout",
     "output_type": "stream",
     "text": [
      "Number of data elements: 894\n"
     ]
    }
   ],
   "source": [
    "data_elements = download_data_element_templates()\n",
    "data_elements.drop_duplicates(inplace=True)\n",
    "print(\"Number of data elements:\", data_elements.shape[0])"
   ]
  },
  {
   "cell_type": "code",
   "execution_count": 3,
   "id": "3232867d-a277-4aa1-ba2a-7d2aae950674",
   "metadata": {},
   "outputs": [],
   "source": [
    "### Save as a csv file"
   ]
  },
  {
   "cell_type": "code",
   "execution_count": 4,
   "id": "f78f62f6-19d8-4c68-a43b-cd539a07cc4d",
   "metadata": {},
   "outputs": [],
   "source": [
    "directory = \"../data/dictionaries\"\n",
    "os.makedirs(directory, exist_ok=True)\n",
    "data_elements.to_csv(\"../data/dictionaries/RADx-rad_Dictionary_Template.csv\", index=False)"
   ]
  }
 ],
 "metadata": {
  "kernelspec": {
   "display_name": "Python 3 (ipykernel)",
   "language": "python",
   "name": "python3"
  },
  "language_info": {
   "codemirror_mode": {
    "name": "ipython",
    "version": 3
   },
   "file_extension": ".py",
   "mimetype": "text/x-python",
   "name": "python",
   "nbconvert_exporter": "python",
   "pygments_lexer": "ipython3",
   "version": "3.11.8"
  }
 },
 "nbformat": 4,
 "nbformat_minor": 5
}
