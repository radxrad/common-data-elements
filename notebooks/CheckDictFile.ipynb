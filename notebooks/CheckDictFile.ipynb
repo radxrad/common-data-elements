{
 "cells": [
  {
   "cell_type": "markdown",
   "id": "51525f58-ad22-4e60-98d7-8f6c84dea8de",
   "metadata": {},
   "source": [
    "# This notebook converts data dictionaries in the  RADx-rad Data Dictionary format to the harmonized RADx Data Dictionary format."
   ]
  },
  {
   "cell_type": "markdown",
   "id": "1e34ad52-8f92-483a-b07f-e78687163398",
   "metadata": {
    "tags": []
   },
   "source": [
    "### Setup"
   ]
  },
  {
   "cell_type": "code",
   "execution_count": 1,
   "id": "61e26166-43aa-45bf-8611-a97ba6b36e0c",
   "metadata": {
    "tags": []
   },
   "outputs": [],
   "source": [
    "import os\n",
    "import glob\n",
    "import pandas as pd\n",
    "import re\n",
    "from utils import *"
   ]
  },
  {
   "cell_type": "code",
   "execution_count": 2,
   "id": "e4ee5efd-3004-41cf-a50d-9be150aee17c",
   "metadata": {
    "tags": []
   },
   "outputs": [],
   "source": [
    "pd.options.display.max_rows = None  # display all rows\n",
    "pd.options.display.max_columns = None  # display all columns\n",
    "pd.set_option('display.max_colwidth', None) # don't truncate wide columns"
   ]
  },
  {
   "cell_type": "code",
   "execution_count": 3,
   "id": "361b3b36-89d6-4902-81c5-f7f6c33b7c80",
   "metadata": {},
   "outputs": [],
   "source": [
    "enum_pattern_int = r\"(\\d+),\\s*([^|]+)\\s*(?:\\||$)\" # Example: 1, Male | 2, Female | 3, Intersex | 4, None of these describe me\n",
    "enum_pattern_str = r\"([A-Z]+),\\s*([^|]+)\\s*(?:\\||$)\" # Example: AL, Alabama | AK, Alaska | AS, American Samoa"
   ]
  },
  {
   "cell_type": "code",
   "execution_count": 4,
   "id": "f36d7583-8d77-4f64-8649-96ce50750dba",
   "metadata": {},
   "outputs": [],
   "source": [
    "required_fields = {\"Variable / Field Name\", \"Field Label\", \"Section Header\", \"Field Type\", \"Unit\", \"Choices, Calculations, OR Slider Labels\", \"Field Note\", \"CDE Reference\"}"
   ]
  },
  {
   "cell_type": "code",
   "execution_count": 5,
   "id": "6f54ec67-54bd-4153-b083-a40f5f3182f6",
   "metadata": {},
   "outputs": [],
   "source": [
    "column_map = {\"Variable / Field Name\": \"Id\", \"Field Label\": \"Label\", \"Section Header\": \"Section\", \"Field Type\": \"Datatype\", \"Unit\": \"Unit\", \"Choices, Calculations, OR Slider Labels\": \"Enumeration\", \"Field Note\": \"Notes\"}"
   ]
  },
  {
   "cell_type": "markdown",
   "id": "54090c53-9b95-4302-a7aa-319668104a92",
   "metadata": {},
   "source": [
    "## Download RADx-rad data elements"
   ]
  },
  {
   "cell_type": "code",
   "execution_count": 6,
   "id": "2cfcd1f1-d35d-4649-8eef-5f54de243142",
   "metadata": {},
   "outputs": [],
   "source": [
    "files = glob.glob(\"../data/dictionaries/*.csv\")"
   ]
  },
  {
   "cell_type": "code",
   "execution_count": 7,
   "id": "98445f05-85ea-446f-b5e6-bb6b982502f0",
   "metadata": {},
   "outputs": [],
   "source": [
    "error_list = []"
   ]
  },
  {
   "cell_type": "code",
   "execution_count": 8,
   "id": "852fdf77-cbfe-4ad7-ba6b-270710551683",
   "metadata": {},
   "outputs": [
    {
     "name": "stdout",
     "output_type": "stream",
     "text": [
      "ERROR: Data field missing: {'CDE Reference'}\n",
      "INFO : Extra fields: {'Text Validation Type OR Show Slider Number', 'template', 'Text Validation Max', 'Branching Logic (Show field only if...)', 'Text Validation Min', 'Reference'}\n",
      "ERROR: Data missing in field: Variable / Field Name\n",
      "ERROR: Data missing in field: Section Header\n",
      "ERROR: Data missing in field: Field Type\n",
      "ERROR: Data missing in field: Field Label\n",
      "ERROR: Data field missing: CDE Reference\n",
      "ERROR: Invalid Field Type: {'', 'biginteger'}\n",
      "INFO : Allowed Field Types: {'checkbox', 'float', 'url', 'integer', 'time', 'text', 'category', 'radio', 'timezone', 'sequence', 'zipcode', 'yesno', 'date', 'dropdown', 'list'}\n"
     ]
    }
   ],
   "source": [
    "for filename in files:\n",
    "    data_elements = pd.read_csv(filename, dtype=str)\n",
    "    data_elements.fillna(\"\", inplace=True)\n",
    "    \n",
    "    # Run data checks\n",
    "    missing_fields = check_required_fields(data_elements)\n",
    "    \n",
    "    # Check that the following fields contain data, they cannot be empty.\n",
    "    empty_field_name = check_empty_field(\"Variable / Field Name\", data_elements)\n",
    "    empty_section_header = check_empty_field(\"Section Header\", data_elements)\n",
    "    empty_field_type = check_empty_field(\"Field Type\", data_elements)\n",
    "    empty_field_label = check_empty_field(\"Field Label\", data_elements)\n",
    "    empty_cde_reference = check_empty_field(\"CDE Reference\", data_elements)\n",
    "    \n",
    "    # Check that field types match the expected types\n",
    "    invalid_field_types = check_field_types(data_elements)\n",
    "    \n",
    "    # Record results\n",
    "    error_list.append({\"filename\": filename,\n",
    "                       \"missing_fields\": missing_fields, \n",
    "                       \"empty_field_name\": empty_field_name, \n",
    "                       \"empty_section_header\": empty_section_header,\n",
    "                       \"empty_field_type\": empty_field_type,\n",
    "                       \"empty_field_label\": empty_field_label,\n",
    "                       \"empty_cde_reference\": empty_cde_reference,\n",
    "                       \"invalid_field_types\": invalid_field_types})"
   ]
  },
  {
   "cell_type": "code",
   "execution_count": 9,
   "id": "40d437ff-20dd-408f-9d50-b9653b23fc18",
   "metadata": {},
   "outputs": [
    {
     "data": {
      "text/html": [
       "<div>\n",
       "<style scoped>\n",
       "    .dataframe tbody tr th:only-of-type {\n",
       "        vertical-align: middle;\n",
       "    }\n",
       "\n",
       "    .dataframe tbody tr th {\n",
       "        vertical-align: top;\n",
       "    }\n",
       "\n",
       "    .dataframe thead th {\n",
       "        text-align: right;\n",
       "    }\n",
       "</style>\n",
       "<table border=\"1\" class=\"dataframe\">\n",
       "  <thead>\n",
       "    <tr style=\"text-align: right;\">\n",
       "      <th></th>\n",
       "      <th>filename</th>\n",
       "      <th>missing_fields</th>\n",
       "      <th>empty_field_name</th>\n",
       "      <th>empty_section_header</th>\n",
       "      <th>empty_field_type</th>\n",
       "      <th>empty_field_label</th>\n",
       "      <th>empty_cde_reference</th>\n",
       "      <th>invalid_field_types</th>\n",
       "    </tr>\n",
       "  </thead>\n",
       "  <tbody>\n",
       "    <tr>\n",
       "      <th>0</th>\n",
       "      <td>../data/dictionaries/RADx-rad_Dictionary_Template.csv</td>\n",
       "      <td>{}</td>\n",
       "      <td>False</td>\n",
       "      <td>False</td>\n",
       "      <td>False</td>\n",
       "      <td>False</td>\n",
       "      <td>False</td>\n",
       "      <td>{}</td>\n",
       "    </tr>\n",
       "    <tr>\n",
       "      <th>1</th>\n",
       "      <td>../data/dictionaries/test_dict_with_errors.csv</td>\n",
       "      <td>{CDE Reference}</td>\n",
       "      <td>True</td>\n",
       "      <td>True</td>\n",
       "      <td>True</td>\n",
       "      <td>True</td>\n",
       "      <td>True</td>\n",
       "      <td>{, biginteger}</td>\n",
       "    </tr>\n",
       "  </tbody>\n",
       "</table>\n",
       "</div>"
      ],
      "text/plain": [
       "                                                filename   missing_fields  \\\n",
       "0  ../data/dictionaries/RADx-rad_Dictionary_Template.csv               {}   \n",
       "1         ../data/dictionaries/test_dict_with_errors.csv  {CDE Reference}   \n",
       "\n",
       "   empty_field_name  empty_section_header  empty_field_type  \\\n",
       "0             False                 False             False   \n",
       "1              True                  True              True   \n",
       "\n",
       "   empty_field_label  empty_cde_reference invalid_field_types  \n",
       "0              False                False                  {}  \n",
       "1               True                 True      {, biginteger}  "
      ]
     },
     "execution_count": 9,
     "metadata": {},
     "output_type": "execute_result"
    }
   ],
   "source": [
    "errors = pd.DataFrame(error_list)\n",
    "errors.head()"
   ]
  },
  {
   "cell_type": "code",
   "execution_count": 10,
   "id": "12005fc9-a39a-4d80-8a19-1fe6ff64aae4",
   "metadata": {},
   "outputs": [],
   "source": [
    "#data_elements.to_csv(\", index=False)"
   ]
  }
 ],
 "metadata": {
  "kernelspec": {
   "display_name": "Python 3 (ipykernel)",
   "language": "python",
   "name": "python3"
  },
  "language_info": {
   "codemirror_mode": {
    "name": "ipython",
    "version": 3
   },
   "file_extension": ".py",
   "mimetype": "text/x-python",
   "name": "python",
   "nbconvert_exporter": "python",
   "pygments_lexer": "ipython3",
   "version": "3.11.4"
  }
 },
 "nbformat": 4,
 "nbformat_minor": 5
}
