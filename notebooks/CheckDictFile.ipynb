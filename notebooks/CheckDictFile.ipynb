{
 "cells": [
  {
   "cell_type": "markdown",
   "id": "51525f58-ad22-4e60-98d7-8f6c84dea8de",
   "metadata": {},
   "source": [
    "# This notebook converts data dictionaries in the  RADx-rad Data Dictionary format to the harmonized RADx Data Dictionary format."
   ]
  },
  {
   "cell_type": "markdown",
   "id": "1e34ad52-8f92-483a-b07f-e78687163398",
   "metadata": {
    "tags": []
   },
   "source": [
    "### Setup"
   ]
  },
  {
   "cell_type": "code",
   "execution_count": 1,
   "id": "61e26166-43aa-45bf-8611-a97ba6b36e0c",
   "metadata": {
    "tags": []
   },
   "outputs": [],
   "source": [
    "import os\n",
    "import glob\n",
    "import pandas as pd\n",
    "import re\n",
    "import traceback\n",
    "import sys\n",
    "from utils import *"
   ]
  },
  {
   "cell_type": "code",
   "execution_count": 2,
   "id": "e4ee5efd-3004-41cf-a50d-9be150aee17c",
   "metadata": {
    "tags": []
   },
   "outputs": [],
   "source": [
    "pd.options.display.max_rows = None  # display all rows\n",
    "pd.options.display.max_columns = None  # display all columns\n",
    "pd.set_option('display.max_colwidth', None) # don't truncate wide columns"
   ]
  },
  {
   "cell_type": "code",
   "execution_count": 3,
   "id": "361b3b36-89d6-4902-81c5-f7f6c33b7c80",
   "metadata": {},
   "outputs": [],
   "source": [
    "enum_pattern_int = r\"(\\d+),\\s*([^|]+)\\s*(?:\\||$)\" # Example: 1, Male | 2, Female | 3, Intersex | 4, None of these describe me\n",
    "enum_pattern_str = r\"([A-Z]+),\\s*([^|]+)\\s*(?:\\||$)\" # Example: AL, Alabama | AK, Alaska | AS, American Samoa"
   ]
  },
  {
   "cell_type": "code",
   "execution_count": 4,
   "id": "f36d7583-8d77-4f64-8649-96ce50750dba",
   "metadata": {},
   "outputs": [],
   "source": [
    "required_fields = {\"Variable / Field Name\", \"Field Label\", \"Section Header\", \"Field Type\", \"Unit\", \"Choices, Calculations, OR Slider Labels\", \"Field Note\", \"CDE Reference\"}"
   ]
  },
  {
   "cell_type": "code",
   "execution_count": 5,
   "id": "6f54ec67-54bd-4153-b083-a40f5f3182f6",
   "metadata": {},
   "outputs": [],
   "source": [
    "column_map = {\"Variable / Field Name\": \"Id\", \"Field Label\": \"Label\", \"Section Header\": \"Section\", \"Field Type\": \"Datatype\", \"Unit\": \"Unit\", \"Choices, Calculations, OR Slider Labels\": \"Enumeration\", \"Field Note\": \"Notes\"}"
   ]
  },
  {
   "cell_type": "markdown",
   "id": "54090c53-9b95-4302-a7aa-319668104a92",
   "metadata": {},
   "source": [
    "## Download RADx-rad data elements"
   ]
  },
  {
   "cell_type": "code",
   "execution_count": 6,
   "id": "91870e57-54db-4a97-a02d-2851b4b3ce0a",
   "metadata": {},
   "outputs": [],
   "source": [
    "# remove empty columns: https://gist.github.com/aculich/fb2769414850d20911eb\n",
    "# https://www.jitsejan.com/find-and-delete-empty-columns-pandas-dataframe"
   ]
  },
  {
   "cell_type": "code",
   "execution_count": 7,
   "id": "2cfcd1f1-d35d-4649-8eef-5f54de243142",
   "metadata": {},
   "outputs": [],
   "source": [
    "files = glob.glob(\"../data/radx-rad-dictionaries/*.csv\")"
   ]
  },
  {
   "cell_type": "code",
   "execution_count": 8,
   "id": "98445f05-85ea-446f-b5e6-bb6b982502f0",
   "metadata": {},
   "outputs": [],
   "source": [
    "error_list = []"
   ]
  },
  {
   "cell_type": "code",
   "execution_count": 9,
   "id": "5fbaba4e-0f53-48c8-b0d7-d7bdef193a77",
   "metadata": {},
   "outputs": [],
   "source": [
    "def count_empty_cols(data_elements):\n",
    "    cols = list(data_elements.columns)\n",
    "    print(\"all cols:\", cols)\n",
    "    unnamed_cols = list(filter(lambda x: x.startswith(\"Unnamed\"), cols))\n",
    "    print(\"unnamed cols:\", unnamed_cols)\n",
    "    return len(unnamed_cols)"
   ]
  },
  {
   "cell_type": "code",
   "execution_count": 10,
   "id": "852fdf77-cbfe-4ad7-ba6b-270710551683",
   "metadata": {},
   "outputs": [
    {
     "name": "stdout",
     "output_type": "stream",
     "text": [
      "parsing:  ../data/radx-rad-dictionaries/rad_015_899-01_July2022NobleWWTP_DICT_origcopy_v1.csv\n",
      "Columns: Index(['Variable / Field Name', 'Section Header', 'Field Type', 'Field Label',\n",
      "       'Choices, Calculations, OR Slider Labels', 'Field Note',\n",
      "       'Text Validation Type OR Show Slider Number', 'Text Validation Min',\n",
      "       'Text Validation Max', 'Branching Logic (Show field only if...)',\n",
      "       'Unit', 'CDE Reference', 'Unnamed: 12', 'Unnamed: 13', 'Unnamed: 14',\n",
      "       'Unnamed: 15', 'Unnamed: 16', 'Unnamed: 17', 'Unnamed: 18',\n",
      "       'Unnamed: 19', 'Unnamed: 20', 'Unnamed: 21', 'Unnamed: 22',\n",
      "       'Unnamed: 23', 'Unnamed: 24', 'Unnamed: 25'],\n",
      "      dtype='object')\n",
      "all cols: ['Variable / Field Name', 'Section Header', 'Field Type', 'Field Label', 'Choices, Calculations, OR Slider Labels', 'Field Note', 'Text Validation Type OR Show Slider Number', 'Text Validation Min', 'Text Validation Max', 'Branching Logic (Show field only if...)', 'Unit', 'CDE Reference', 'Unnamed: 12', 'Unnamed: 13', 'Unnamed: 14', 'Unnamed: 15', 'Unnamed: 16', 'Unnamed: 17', 'Unnamed: 18', 'Unnamed: 19', 'Unnamed: 20', 'Unnamed: 21', 'Unnamed: 22', 'Unnamed: 23', 'Unnamed: 24', 'Unnamed: 25']\n",
      "unnamed cols: ['Unnamed: 12', 'Unnamed: 13', 'Unnamed: 14', 'Unnamed: 15', 'Unnamed: 16', 'Unnamed: 17', 'Unnamed: 18', 'Unnamed: 19', 'Unnamed: 20', 'Unnamed: 21', 'Unnamed: 22', 'Unnamed: 23', 'Unnamed: 24', 'Unnamed: 25']\n",
      "ERROR: Data missing in field: Field Type\n",
      "ERROR: Data missing in field: Field Type\n",
      "parsing:  ../data/radx-rad-dictionaries/rad_015_949_01_CU.TRACES.20220707_DICT_origcopy_v1.csv\n",
      "Columns: Index(['Variable / Field Name', 'Section Header', 'Field Type', 'Field Label',\n",
      "       'Choices, Calculations, OR Slider Labels', 'Field Note',\n",
      "       'Text Validation Type OR Show Slider Number', 'Text Validation Min',\n",
      "       'Text Validation Max', 'Branching Logic (Show field only if...)',\n",
      "       'Unit', 'CDE Reference'],\n",
      "      dtype='object')\n",
      "all cols: ['Variable / Field Name', 'Section Header', 'Field Type', 'Field Label', 'Choices, Calculations, OR Slider Labels', 'Field Note', 'Text Validation Type OR Show Slider Number', 'Text Validation Min', 'Text Validation Max', 'Branching Logic (Show field only if...)', 'Unit', 'CDE Reference']\n",
      "unnamed cols: []\n",
      "parsing:  ../data/radx-rad-dictionaries/Rad_015-893-01_alphanum_DICT_origcopy_v1.csv\n",
      "Columns: Index(['Variable / Field Name', 'Section Header', 'Field Type', 'Field Label',\n",
      "       'Choices, Calculations, OR Slider Labels', 'Field Note',\n",
      "       'Text Validation Type OR Show Slider Number', 'Text Validation Min',\n",
      "       'Text Validation Max', 'Branching Logic (Show field only if...)',\n",
      "       'Unit', 'CDE Reference'],\n",
      "      dtype='object')\n",
      "all cols: ['Variable / Field Name', 'Section Header', 'Field Type', 'Field Label', 'Choices, Calculations, OR Slider Labels', 'Field Note', 'Text Validation Type OR Show Slider Number', 'Text Validation Min', 'Text Validation Max', 'Branching Logic (Show field only if...)', 'Unit', 'CDE Reference']\n",
      "unnamed cols: []\n",
      "parsing:  ../data/radx-rad-dictionaries/rad_020_841-01_smFET_DICT_origcopy_v1.csv\n",
      "Columns: Index(['Variable / Field Name', 'Section Header', 'Field Type', 'Field Label',\n",
      "       'Choices, Calculations, OR Slider Labels', 'Field Note',\n",
      "       'Text Validation Type OR Show Slider Number', 'Text Validation Min',\n",
      "       'Text Validation Max', 'Branching Logic (Show field only if...)',\n",
      "       'Unit', 'CDE Reference'],\n",
      "      dtype='object')\n",
      "all cols: ['Variable / Field Name', 'Section Header', 'Field Type', 'Field Label', 'Choices, Calculations, OR Slider Labels', 'Field Note', 'Text Validation Type OR Show Slider Number', 'Text Validation Min', 'Text Validation Max', 'Branching Logic (Show field only if...)', 'Unit', 'CDE Reference']\n",
      "unnamed cols: []\n",
      "ERROR: Data missing in field: Field Label\n",
      "parsing:  ../data/radx-rad-dictionaries/rad_023_610-01_SPITS MISC_DICT_origcopy_v1.csv\n"
     ]
    },
    {
     "ename": "KeyboardInterrupt",
     "evalue": "",
     "output_type": "error",
     "traceback": [
      "\u001b[0;31m---------------------------------------------------------------------------\u001b[0m",
      "\u001b[0;31mKeyboardInterrupt\u001b[0m                         Traceback (most recent call last)",
      "Cell \u001b[0;32mIn[10], line 13\u001b[0m\n\u001b[1;32m     11\u001b[0m \u001b[38;5;66;03m# check if files is utf8 encoded\u001b[39;00m\n\u001b[1;32m     12\u001b[0m \u001b[38;5;28;01mtry\u001b[39;00m:\n\u001b[0;32m---> 13\u001b[0m     data_elements \u001b[38;5;241m=\u001b[39m \u001b[43mpd\u001b[49m\u001b[38;5;241;43m.\u001b[39;49m\u001b[43mread_csv\u001b[49m\u001b[43m(\u001b[49m\u001b[43mfilename\u001b[49m\u001b[43m,\u001b[49m\u001b[43m \u001b[49m\u001b[43mdtype\u001b[49m\u001b[38;5;241;43m=\u001b[39;49m\u001b[38;5;28;43mstr\u001b[39;49m\u001b[43m,\u001b[49m\u001b[43m \u001b[49m\u001b[43mencoding\u001b[49m\u001b[38;5;241;43m=\u001b[39;49m\u001b[38;5;124;43m'\u001b[39;49m\u001b[38;5;124;43mutf8\u001b[39;49m\u001b[38;5;124;43m'\u001b[39;49m\u001b[43m)\u001b[49m\n\u001b[1;32m     14\u001b[0m \u001b[38;5;28;01mexcept\u001b[39;00m \u001b[38;5;167;01mException\u001b[39;00m:\n\u001b[1;32m     15\u001b[0m     utf8_encoded \u001b[38;5;241m=\u001b[39m \u001b[38;5;28;01mFalse\u001b[39;00m\n",
      "File \u001b[0;32m~/miniconda3/envs/common-data-elements/lib/python3.11/site-packages/pandas/io/parsers/readers.py:912\u001b[0m, in \u001b[0;36mread_csv\u001b[0;34m(filepath_or_buffer, sep, delimiter, header, names, index_col, usecols, dtype, engine, converters, true_values, false_values, skipinitialspace, skiprows, skipfooter, nrows, na_values, keep_default_na, na_filter, verbose, skip_blank_lines, parse_dates, infer_datetime_format, keep_date_col, date_parser, date_format, dayfirst, cache_dates, iterator, chunksize, compression, thousands, decimal, lineterminator, quotechar, quoting, doublequote, escapechar, comment, encoding, encoding_errors, dialect, on_bad_lines, delim_whitespace, low_memory, memory_map, float_precision, storage_options, dtype_backend)\u001b[0m\n\u001b[1;32m    899\u001b[0m kwds_defaults \u001b[38;5;241m=\u001b[39m _refine_defaults_read(\n\u001b[1;32m    900\u001b[0m     dialect,\n\u001b[1;32m    901\u001b[0m     delimiter,\n\u001b[0;32m   (...)\u001b[0m\n\u001b[1;32m    908\u001b[0m     dtype_backend\u001b[38;5;241m=\u001b[39mdtype_backend,\n\u001b[1;32m    909\u001b[0m )\n\u001b[1;32m    910\u001b[0m kwds\u001b[38;5;241m.\u001b[39mupdate(kwds_defaults)\n\u001b[0;32m--> 912\u001b[0m \u001b[38;5;28;01mreturn\u001b[39;00m \u001b[43m_read\u001b[49m\u001b[43m(\u001b[49m\u001b[43mfilepath_or_buffer\u001b[49m\u001b[43m,\u001b[49m\u001b[43m \u001b[49m\u001b[43mkwds\u001b[49m\u001b[43m)\u001b[49m\n",
      "File \u001b[0;32m~/miniconda3/envs/common-data-elements/lib/python3.11/site-packages/pandas/io/parsers/readers.py:583\u001b[0m, in \u001b[0;36m_read\u001b[0;34m(filepath_or_buffer, kwds)\u001b[0m\n\u001b[1;32m    580\u001b[0m     \u001b[38;5;28;01mreturn\u001b[39;00m parser\n\u001b[1;32m    582\u001b[0m \u001b[38;5;28;01mwith\u001b[39;00m parser:\n\u001b[0;32m--> 583\u001b[0m     \u001b[38;5;28;01mreturn\u001b[39;00m \u001b[43mparser\u001b[49m\u001b[38;5;241;43m.\u001b[39;49m\u001b[43mread\u001b[49m\u001b[43m(\u001b[49m\u001b[43mnrows\u001b[49m\u001b[43m)\u001b[49m\n",
      "File \u001b[0;32m~/miniconda3/envs/common-data-elements/lib/python3.11/site-packages/pandas/io/parsers/readers.py:1704\u001b[0m, in \u001b[0;36mTextFileReader.read\u001b[0;34m(self, nrows)\u001b[0m\n\u001b[1;32m   1697\u001b[0m nrows \u001b[38;5;241m=\u001b[39m validate_integer(\u001b[38;5;124m\"\u001b[39m\u001b[38;5;124mnrows\u001b[39m\u001b[38;5;124m\"\u001b[39m, nrows)\n\u001b[1;32m   1698\u001b[0m \u001b[38;5;28;01mtry\u001b[39;00m:\n\u001b[1;32m   1699\u001b[0m     \u001b[38;5;66;03m# error: \"ParserBase\" has no attribute \"read\"\u001b[39;00m\n\u001b[1;32m   1700\u001b[0m     (\n\u001b[1;32m   1701\u001b[0m         index,\n\u001b[1;32m   1702\u001b[0m         columns,\n\u001b[1;32m   1703\u001b[0m         col_dict,\n\u001b[0;32m-> 1704\u001b[0m     ) \u001b[38;5;241m=\u001b[39m \u001b[38;5;28;43mself\u001b[39;49m\u001b[38;5;241;43m.\u001b[39;49m\u001b[43m_engine\u001b[49m\u001b[38;5;241;43m.\u001b[39;49m\u001b[43mread\u001b[49m\u001b[43m(\u001b[49m\u001b[43m  \u001b[49m\u001b[38;5;66;43;03m# type: ignore[attr-defined]\u001b[39;49;00m\n\u001b[1;32m   1705\u001b[0m \u001b[43m        \u001b[49m\u001b[43mnrows\u001b[49m\n\u001b[1;32m   1706\u001b[0m \u001b[43m    \u001b[49m\u001b[43m)\u001b[49m\n\u001b[1;32m   1707\u001b[0m \u001b[38;5;28;01mexcept\u001b[39;00m \u001b[38;5;167;01mException\u001b[39;00m:\n\u001b[1;32m   1708\u001b[0m     \u001b[38;5;28mself\u001b[39m\u001b[38;5;241m.\u001b[39mclose()\n",
      "File \u001b[0;32m~/miniconda3/envs/common-data-elements/lib/python3.11/site-packages/pandas/io/parsers/c_parser_wrapper.py:234\u001b[0m, in \u001b[0;36mCParserWrapper.read\u001b[0;34m(self, nrows)\u001b[0m\n\u001b[1;32m    232\u001b[0m \u001b[38;5;28;01mtry\u001b[39;00m:\n\u001b[1;32m    233\u001b[0m     \u001b[38;5;28;01mif\u001b[39;00m \u001b[38;5;28mself\u001b[39m\u001b[38;5;241m.\u001b[39mlow_memory:\n\u001b[0;32m--> 234\u001b[0m         chunks \u001b[38;5;241m=\u001b[39m \u001b[38;5;28;43mself\u001b[39;49m\u001b[38;5;241;43m.\u001b[39;49m\u001b[43m_reader\u001b[49m\u001b[38;5;241;43m.\u001b[39;49m\u001b[43mread_low_memory\u001b[49m\u001b[43m(\u001b[49m\u001b[43mnrows\u001b[49m\u001b[43m)\u001b[49m\n\u001b[1;32m    235\u001b[0m         \u001b[38;5;66;03m# destructive to chunks\u001b[39;00m\n\u001b[1;32m    236\u001b[0m         data \u001b[38;5;241m=\u001b[39m _concatenate_chunks(chunks)\n",
      "File \u001b[0;32m~/miniconda3/envs/common-data-elements/lib/python3.11/site-packages/pandas/_libs/parsers.pyx:814\u001b[0m, in \u001b[0;36mpandas._libs.parsers.TextReader.read_low_memory\u001b[0;34m()\u001b[0m\n",
      "File \u001b[0;32m~/miniconda3/envs/common-data-elements/lib/python3.11/site-packages/pandas/_libs/parsers.pyx:891\u001b[0m, in \u001b[0;36mpandas._libs.parsers.TextReader._read_rows\u001b[0;34m()\u001b[0m\n",
      "File \u001b[0;32m~/miniconda3/envs/common-data-elements/lib/python3.11/site-packages/pandas/_libs/parsers.pyx:1036\u001b[0m, in \u001b[0;36mpandas._libs.parsers.TextReader._convert_column_data\u001b[0;34m()\u001b[0m\n",
      "File \u001b[0;32m~/miniconda3/envs/common-data-elements/lib/python3.11/site-packages/pandas/_libs/parsers.pyx:1075\u001b[0m, in \u001b[0;36mpandas._libs.parsers.TextReader._convert_tokens\u001b[0;34m()\u001b[0m\n",
      "File \u001b[0;32m~/miniconda3/envs/common-data-elements/lib/python3.11/site-packages/pandas/_libs/parsers.pyx:1165\u001b[0m, in \u001b[0;36mpandas._libs.parsers.TextReader._convert_with_dtype\u001b[0;34m()\u001b[0m\n",
      "File \u001b[0;32m~/miniconda3/envs/common-data-elements/lib/python3.11/site-packages/pandas/core/dtypes/common.py:1335\u001b[0m, in \u001b[0;36mis_extension_array_dtype\u001b[0;34m(arr_or_dtype)\u001b[0m\n\u001b[1;32m   1326\u001b[0m     \u001b[38;5;66;03m# Note: if other EA dtypes are ever held in HybridBlock, exclude those\u001b[39;00m\n\u001b[1;32m   1327\u001b[0m     \u001b[38;5;66;03m#  here too.\u001b[39;00m\n\u001b[1;32m   1328\u001b[0m     \u001b[38;5;66;03m# NB: need to check DatetimeTZDtype and not is_datetime64tz_dtype\u001b[39;00m\n\u001b[1;32m   1329\u001b[0m     \u001b[38;5;66;03m#  to exclude ArrowTimestampUSDtype\u001b[39;00m\n\u001b[1;32m   1330\u001b[0m     \u001b[38;5;28;01mreturn\u001b[39;00m \u001b[38;5;28misinstance\u001b[39m(dtype, ExtensionDtype) \u001b[38;5;129;01mand\u001b[39;00m \u001b[38;5;129;01mnot\u001b[39;00m \u001b[38;5;28misinstance\u001b[39m(\n\u001b[1;32m   1331\u001b[0m         dtype, (DatetimeTZDtype, PeriodDtype)\n\u001b[1;32m   1332\u001b[0m     )\n\u001b[0;32m-> 1335\u001b[0m \u001b[38;5;28;01mdef\u001b[39;00m \u001b[38;5;21mis_extension_array_dtype\u001b[39m(arr_or_dtype) \u001b[38;5;241m-\u001b[39m\u001b[38;5;241m>\u001b[39m \u001b[38;5;28mbool\u001b[39m:\n\u001b[1;32m   1336\u001b[0m \u001b[38;5;250m    \u001b[39m\u001b[38;5;124;03m\"\"\"\u001b[39;00m\n\u001b[1;32m   1337\u001b[0m \u001b[38;5;124;03m    Check if an object is a pandas extension array type.\u001b[39;00m\n\u001b[1;32m   1338\u001b[0m \n\u001b[0;32m   (...)\u001b[0m\n\u001b[1;32m   1378\u001b[0m \u001b[38;5;124;03m    False\u001b[39;00m\n\u001b[1;32m   1379\u001b[0m \u001b[38;5;124;03m    \"\"\"\u001b[39;00m\n\u001b[1;32m   1380\u001b[0m     dtype \u001b[38;5;241m=\u001b[39m \u001b[38;5;28mgetattr\u001b[39m(arr_or_dtype, \u001b[38;5;124m\"\u001b[39m\u001b[38;5;124mdtype\u001b[39m\u001b[38;5;124m\"\u001b[39m, arr_or_dtype)\n",
      "\u001b[0;31mKeyboardInterrupt\u001b[0m: "
     ]
    }
   ],
   "source": [
    "for filename in files:\n",
    "    print(\"parsing: \", filename)\n",
    "    parse_error = False\n",
    "    missing_fields = \"\"\n",
    "    empty_fields = []\n",
    "    invalid_field_types = \"\"\n",
    "    empty_cols = 0\n",
    "    empty_rows = 0\n",
    "    utf8_encoded = True\n",
    "\n",
    "    # check if files is utf8 encoded\n",
    "    try:\n",
    "        data_elements = pd.read_csv(filename, dtype=str, encoding='utf8')\n",
    "    except Exception:\n",
    "        utf8_encoded = False\n",
    "\n",
    "    try:\n",
    "        #data_elements = pd.read_csv(filename, dtype=str, encoding=\"ISO-8859-1\", on_bad_lines=\"skip\", encoding_errors=\"ignore\")\n",
    "        data_elements = pd.read_csv(filename, dtype=str, encoding=\"ISO-8859-1\")\n",
    "    except Exception:\n",
    "        parse_error = True\n",
    "        print(\"ERROR: parsing csv file\")\n",
    "        print(traceback.format_exc())\n",
    "\n",
    "    if not parse_error:\n",
    "        # Some of the original wastewater dictionaries have a Units field (inherited from CDC).\n",
    "        # The wastewater directory was updated to \"Unit\", since it doesn't make sense for a data elements have multiple units.\n",
    "        data_elements.rename(columns={\"Units\": \"Unit\"}, inplace=True)\n",
    "        all_rows = data_elements.shape[0]\n",
    "        data_elements = data_elements.dropna(axis=0, how='all')\n",
    "        empty_rows = all_rows - data_elements.shape[0]\n",
    "        data_elements.fillna(\"\", inplace=True)\n",
    "        print(\"Columns:\", data_elements.columns)\n",
    "    \n",
    "        # Run data checks\n",
    "        missing_fields = check_required_fields(data_elements)\n",
    "        empty_cols = count_empty_cols(data_elements)\n",
    "    \n",
    "        # Check that the following fields contain data, they cannot be empty.\n",
    "        if check_empty_field(\"Variable / Field Name\", data_elements):\n",
    "            empty_fields.append(\"Variable / Field Name\")\n",
    "        if check_empty_field(\"Section Header\", data_elements):\n",
    "            empty_fields.append(\"Section Header\")\n",
    "        if check_empty_field(\"Field Type\", data_elements):\n",
    "            empty_fields.append(\"Field Type\")\n",
    "        if check_empty_field(\"Field Label\", data_elements):\n",
    "            empty_fields.append(\"Field Label\") \n",
    "        # if check_empty_field(\"CDE Reference\", data_elements):\n",
    "        #     empty_fields.append(\"CDE Reference\") \n",
    "    \n",
    "        # Check that field types match the expected types\n",
    "        if not check_empty_field(\"Field Type\", data_elements):\n",
    "            invalid_field_types = check_field_types(data_elements)\n",
    "    \n",
    "    # Record results\n",
    "    if len(empty_fields) == 0:\n",
    "        empty_fields = \"\"\n",
    "            \n",
    "    error_list.append({\"filename\": filename.split(\"/\")[-1],\n",
    "                       \"utf8_encoded\": utf8_encoded,\n",
    "                       \"parse_error\": parse_error,\n",
    "                       \"missing_fields\": missing_fields,\n",
    "                       \"empty_fields\": empty_fields,\n",
    "                       \"invalid_field_types\": invalid_field_types,\n",
    "                       \"empty_cols\": empty_cols,\n",
    "                       \"empty_rows\": empty_rows})"
   ]
  },
  {
   "cell_type": "code",
   "execution_count": null,
   "id": "40d437ff-20dd-408f-9d50-b9653b23fc18",
   "metadata": {},
   "outputs": [],
   "source": [
    "errors = pd.DataFrame(error_list)\n",
    "errors.head(100)"
   ]
  },
  {
   "cell_type": "code",
   "execution_count": null,
   "id": "12005fc9-a39a-4d80-8a19-1fe6ff64aae4",
   "metadata": {},
   "outputs": [],
   "source": [
    "errors.to_csv(\"radx_dict_errors_2023-08-19.csv\", index=False)"
   ]
  },
  {
   "cell_type": "code",
   "execution_count": null,
   "id": "754cb0ee-3fa4-4622-95a6-6b19356540b9",
   "metadata": {},
   "outputs": [],
   "source": [
    "# Files with parsing errors"
   ]
  },
  {
   "cell_type": "code",
   "execution_count": null,
   "id": "91fe813c-54b9-4b5c-91c6-6f165e905c15",
   "metadata": {},
   "outputs": [],
   "source": [
    "parse_errors = errors[errors[\"parse_error\"] == True]"
   ]
  },
  {
   "cell_type": "code",
   "execution_count": null,
   "id": "dee7ddfd-ef71-4f1b-943e-dff33ac7ebb2",
   "metadata": {},
   "outputs": [],
   "source": [
    "parse_errors.shape[0]"
   ]
  },
  {
   "cell_type": "code",
   "execution_count": null,
   "id": "ec058f71-6fda-44f0-9c43-9c069bdc5ab0",
   "metadata": {},
   "outputs": [],
   "source": []
  }
 ],
 "metadata": {
  "kernelspec": {
   "display_name": "Python 3 (ipykernel)",
   "language": "python",
   "name": "python3"
  },
  "language_info": {
   "codemirror_mode": {
    "name": "ipython",
    "version": 3
   },
   "file_extension": ".py",
   "mimetype": "text/x-python",
   "name": "python",
   "nbconvert_exporter": "python",
   "pygments_lexer": "ipython3",
   "version": "3.11.8"
  }
 },
 "nbformat": 4,
 "nbformat_minor": 5
}
