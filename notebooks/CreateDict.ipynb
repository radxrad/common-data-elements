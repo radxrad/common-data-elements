{
 "cells": [
  {
   "cell_type": "code",
   "execution_count": null,
   "id": "3de1d234-1b1f-4da8-bbd6-ac44bd9adc0c",
   "metadata": {
    "tags": []
   },
   "outputs": [],
   "source": [
    "csv_dir = \"\"\n",
    "excel_file = \"\"\n",
    "excel_dir = \"\"\n",
    "google_doc_id = \"\""
   ]
  },
  {
   "cell_type": "markdown",
   "id": "a2efb738-30e4-4d4f-8f8c-3a3ed870bcf9",
   "metadata": {},
   "source": [
    "### Specify path to example data files\n",
    "Specify either a csv directory name, an excel file name, or a Google document id to an excel file. See examples below"
   ]
  },
  {
   "cell_type": "markdown",
   "id": "0cca372c-2872-4ab4-9f78-a65fd9fd8e5f",
   "metadata": {},
   "source": [
    "#### For csv files specify the path to the directory that contains the csv files"
   ]
  },
  {
   "cell_type": "code",
   "execution_count": null,
   "id": "e41fd94c-e551-4af2-add0-de4a0218d015",
   "metadata": {},
   "outputs": [],
   "source": [
    "# csv_dir = \"../data/path_to_csv_dir\""
   ]
  },
  {
   "cell_type": "markdown",
   "id": "efbbc379-aa30-44fd-8f72-20aa66ff3c97",
   "metadata": {},
   "source": [
    "#### For an Excel (.xlsx) file specify the path to the file with multiple sheets"
   ]
  },
  {
   "cell_type": "code",
   "execution_count": null,
   "id": "7f945678-4bd1-4dc0-9d9f-d976b152d119",
   "metadata": {},
   "outputs": [],
   "source": [
    "# excel_file = \"../data/path_to_excel_file\""
   ]
  },
  {
   "cell_type": "code",
   "execution_count": null,
   "id": "c0459326-e171-48b9-a311-f1d519811ab4",
   "metadata": {},
   "outputs": [],
   "source": [
    "#### For a directory of Excel files"
   ]
  },
  {
   "cell_type": "code",
   "execution_count": null,
   "id": "930085d0-276b-4552-8e7f-17443eed45c7",
   "metadata": {},
   "outputs": [],
   "source": [
    "# excel_dir = \"../data/path_to_excel_dir\""
   ]
  },
  {
   "cell_type": "markdown",
   "id": "cf0a1987-8ef4-40ca-9c4c-fb365873d138",
   "metadata": {},
   "source": [
    "#### For an Excel file in Google Sheets (as Excel file) specify the google_doc_id and a local data directory to store the results."
   ]
  },
  {
   "cell_type": "code",
   "execution_count": null,
   "id": "28dd910f-6abc-4bf3-88b6-a1b95e753cbc",
   "metadata": {},
   "outputs": [],
   "source": [
    "# Example of google doc id\n",
    "# google_doc_id = \"10SOtm2860aE7vTpgJaudERa0KIxdEvwx\"\n",
    "# https://docs.google.com/spreadsheets/d/10SOtm2860aE7vTpgJaudERa0KIxdEvwx/edit#gid=1722872060"
   ]
  },
  {
   "cell_type": "code",
   "execution_count": null,
   "id": "fd9906d0-36f0-4e4e-84c3-81a5cac636fe",
   "metadata": {},
   "outputs": [],
   "source": [
    "# google_doc_id = \"10SOtm2860aE7vTpgJaudERa0KIxdEvwx\"\n",
    "# data_dir = \"../data/path_to_result_files"
   ]
  },
  {
   "cell_type": "markdown",
   "id": "e19c513a-9135-4f83-9fc9-f98b879d0455",
   "metadata": {},
   "source": [
    "---"
   ]
  },
  {
   "cell_type": "markdown",
   "id": "976a9c15-3d1e-4f20-b40d-c9e26b9447d9",
   "metadata": {
    "tags": []
   },
   "source": [
    "### Setup"
   ]
  },
  {
   "cell_type": "code",
   "execution_count": null,
   "id": "0ab39238-fac5-4627-a761-6557a6b5099d",
   "metadata": {
    "tags": []
   },
   "outputs": [],
   "source": [
    "import os\n",
    "import glob\n",
    "import pandas as pd\n",
    "from utils import *"
   ]
  },
  {
   "cell_type": "code",
   "execution_count": null,
   "id": "d6fd8133-936c-4fb9-abd0-7c9fbb19f00e",
   "metadata": {
    "tags": []
   },
   "outputs": [],
   "source": [
    "pd.options.display.max_rows = None  # display all rows\n",
    "pd.options.display.max_columns = None  # display all columns\n",
    "pd.set_option('display.max_colwidth', None) # don't truncate wide columns"
   ]
  },
  {
   "cell_type": "markdown",
   "id": "961f5d6a-abaf-4309-98a2-2f0edb73c0cc",
   "metadata": {},
   "source": [
    "## Collect field names from the example data files"
   ]
  },
  {
   "cell_type": "code",
   "execution_count": null,
   "id": "f5843ff5-7c20-4e41-92f6-77927a2fa193",
   "metadata": {
    "tags": []
   },
   "outputs": [],
   "source": [
    "if csv_dir:\n",
    "    column_names, directory, file_name = download_csv_dir_and_parse_column_names(csv_dir)\n",
    "if excel_dir:\n",
    "    print(f\"Processing {excel_dir}\")\n",
    "    column_names, directory, file_name = download_excel_dir_and_parse_column_names(excel_dir)\n",
    "if excel_file:\n",
    "    print(f\"Processing {excel_file}\")\n",
    "    column_names, directory, file_name = download_excel_and_parse_column_names(excel_file)\n",
    "if google_doc_id:\n",
    "    column_names, directory, file_name = download_google_sheet_excel_and_parse_column_names(google_doc_id, data_dir)\n",
    "    "
   ]
  },
  {
   "cell_type": "code",
   "execution_count": null,
   "id": "2898ef12-c847-4717-bff0-75fbbe9c24a8",
   "metadata": {
    "tags": []
   },
   "outputs": [],
   "source": [
    "print(f\"Number of column names: {column_names.shape[0]}\")\n",
    "column_names"
   ]
  },
  {
   "cell_type": "markdown",
   "id": "f43e7615-f624-4a8e-83ba-6a0ecf5c9a86",
   "metadata": {},
   "source": [
    "## Parse RADx-rad Data Dictionaries"
   ]
  },
  {
   "cell_type": "code",
   "execution_count": null,
   "id": "fa5fff4d-5299-4444-803a-e827ed69da37",
   "metadata": {
    "tags": []
   },
   "outputs": [],
   "source": [
    "data_elements = download_data_element_templates()\n",
    "data_elements[\"template\"].value_counts()"
   ]
  },
  {
   "cell_type": "code",
   "execution_count": null,
   "id": "e40e1bd1-bbad-4536-8431-3c7abce9d15c",
   "metadata": {
    "jupyter": {
     "source_hidden": true
    },
    "tags": []
   },
   "outputs": [],
   "source": [
    "print(f\"Total Data Elements:      {data_elements.shape[0]}\")"
   ]
  },
  {
   "cell_type": "markdown",
   "id": "8d6e2eda-703b-4ef3-a02f-e9cf230a7c24",
   "metadata": {},
   "source": [
    "## Check for presence of Minimum CDEs"
   ]
  },
  {
   "cell_type": "code",
   "execution_count": null,
   "id": "a76f0f2a-9767-48aa-b3b6-9705f7ae8162",
   "metadata": {
    "jupyter": {
     "source_hidden": true
    },
    "tags": []
   },
   "outputs": [],
   "source": [
    "min_cde_matches = match_minimum_cdes(data_elements, column_names)\n",
    "print(f\"Number of Min CDE matches: {min_cde_matches.shape[0]} out of 46\")\n",
    "min_cde_matches"
   ]
  },
  {
   "cell_type": "markdown",
   "id": "2376c7b0-5780-4984-abdd-88e1e393517a",
   "metadata": {},
   "source": [
    "## Create Data Dictionary"
   ]
  },
  {
   "cell_type": "code",
   "execution_count": null,
   "id": "082424ea-0efc-4cd3-9da0-7ad4881e0475",
   "metadata": {
    "jupyter": {
     "source_hidden": true
    },
    "tags": []
   },
   "outputs": [],
   "source": [
    "data_dict = data_elements.merge(column_names, on=\"Variable / Field Name\")\n",
    "data_dict.drop(columns=[\"template\", \"File Name\"], inplace=True)\n",
    "data_dict.drop_duplicates(subset=[\"Variable / Field Name\"], keep=\"first\", inplace=True)\n",
    "print(f\"Number of matched data elements: {data_dict.shape[0]}\")"
   ]
  },
  {
   "cell_type": "markdown",
   "id": "f721854b-0578-418b-a433-52d92cc8f210",
   "metadata": {
    "tags": []
   },
   "source": [
    "#### Add all minimum CDEs\n",
    "They are required even if not all or any minimum CDEs are in the data files."
   ]
  },
  {
   "cell_type": "code",
   "execution_count": null,
   "id": "9d34b8b9-c4ad-4fff-8129-194268d80e4b",
   "metadata": {
    "jupyter": {
     "source_hidden": true
    },
    "tags": []
   },
   "outputs": [],
   "source": [
    "min_cdes = data_elements[data_elements[\"template\"] == \"Minimum CDEs\"].copy()\n",
    "min_cdes.drop(columns=[\"template\"], inplace=True)\n",
    "data_dict = pd.concat([min_cdes, data_dict])\n",
    "data_dict.drop_duplicates(subset=[\"Variable / Field Name\"], keep=\"first\", inplace=True)"
   ]
  },
  {
   "cell_type": "code",
   "execution_count": null,
   "id": "56e870eb-91a7-4982-99e1-e7e18d4b9cbe",
   "metadata": {
    "jupyter": {
     "source_hidden": true
    },
    "tags": []
   },
   "outputs": [],
   "source": [
    "data_dict.head()"
   ]
  },
  {
   "cell_type": "code",
   "execution_count": null,
   "id": "775a3e36-52bd-4fbd-8a4c-ff7c1bb03460",
   "metadata": {
    "tags": []
   },
   "outputs": [],
   "source": [
    "dict_file_name = os.path.join(directory, f\"{file_name}_DICT.csv\")\n",
    "print(f\"Data dictionary saved to: {dict_file_name}\")\n",
    "data_dict.to_csv(dict_file_name, index=False)"
   ]
  },
  {
   "cell_type": "markdown",
   "id": "b6a7ef4e-e69c-4fb8-bfdd-5cf064f878ea",
   "metadata": {},
   "source": [
    "## Create table of undefined data elements"
   ]
  },
  {
   "cell_type": "code",
   "execution_count": null,
   "id": "cf9acd66-1d79-4aca-ad6d-dbac50ed39e3",
   "metadata": {
    "tags": []
   },
   "outputs": [],
   "source": [
    "undefined = get_undefined_data_elements(data_elements, column_names)\n",
    "print(f\"Number of undefined data elements: {undefined.shape[0]}\")"
   ]
  },
  {
   "cell_type": "code",
   "execution_count": null,
   "id": "a5636002-c57e-4fb9-babe-e8a5771d9a56",
   "metadata": {},
   "outputs": [],
   "source": [
    "undefined"
   ]
  },
  {
   "cell_type": "markdown",
   "id": "07485a67-c7e8-48ca-932b-5ab364d1f4ea",
   "metadata": {},
   "source": [
    "## Create data elements for units"
   ]
  },
  {
   "cell_type": "code",
   "execution_count": null,
   "id": "e0befb19-974b-46e4-ba8c-6382bc7159f7",
   "metadata": {},
   "outputs": [],
   "source": [
    "units = undefined[undefined[\"Variable / Field Name\"].str.endswith(\"_unit\")].copy()"
   ]
  },
  {
   "cell_type": "code",
   "execution_count": null,
   "id": "c5727463-cb3f-4fde-bacc-287f728bc99b",
   "metadata": {},
   "outputs": [],
   "source": [
    "units[\"Section Header\"] = \"Technology Metadata\"\n",
    "units[\"Field Type\"] = \"text\"\n",
    "units[\"Choices, Calculations, OR Slider Labels\"] = \"\"\n",
    "units[\"Field Note\"] = \"\"\n",
    "units[\"Text Validation Type OR Show Slider Number\"] = \"\"\n",
    "units[\"Text Validation Min\"] = \"\"\n",
    "units[\"Text Validation Max\"] = \"\"\n",
    "units[\"Branching Logic (Show field only if...)\"] = \"\"\n",
    "units[\"Unit\"] = \"\"\n",
    "units[\"CDE Reference\"] = \"RADx-rad DCC\"\n",
    "units = units[[\"Variable / Field Name\", \"Section Header\", \"Field Type\", \"Field Label\", \n",
    "             \"Choices, Calculations, OR Slider Labels\", \"Field Note\", \n",
    "             \"Text Validation Type OR Show Slider Number\", \"Text Validation Min\",\n",
    "             \"Text Validation Max\", \"Branching Logic (Show field only if...)\",\n",
    "             \"Unit\",\"CDE Reference\"]]\n",
    "units"
   ]
  },
  {
   "cell_type": "code",
   "execution_count": null,
   "id": "1cbb0d4e-2783-43f7-a60d-280da93668eb",
   "metadata": {},
   "outputs": [],
   "source": [
    "units_file_name = os.path.join(directory, f\"{file_name}_UNITS.csv\")\n",
    "print(f\"Units data elements saved to: {units_file_name}\")\n",
    "units.to_csv(units_file_name, index=False)"
   ]
  },
  {
   "cell_type": "code",
   "execution_count": null,
   "id": "a733bd8a-18a5-4da6-bd70-e1db600aa94f",
   "metadata": {
    "tags": []
   },
   "outputs": [],
   "source": [
    "undefined = undefined[[\"Variable / Field Name\", \"Field Label\"]]\n",
    "undefined[\"Field Type\"] = \"Field Type\"\n",
    "undefined = undefined[undefined[\"Field Label\"] == \"\"]"
   ]
  },
  {
   "cell_type": "code",
   "execution_count": null,
   "id": "c1b108f8-d3b1-4628-b6e9-04a4504fe3c4",
   "metadata": {
    "tags": []
   },
   "outputs": [],
   "source": [
    "undef_file_name = os.path.join(directory, f\"{file_name}_UNDEFINED.csv\")\n",
    "print(f\"Undefined data elements saved to: {undef_file_name}\")\n",
    "undefined.to_csv(undef_file_name, index=False)"
   ]
  },
  {
   "cell_type": "code",
   "execution_count": null,
   "id": "40d87ed6-f148-42ce-87cc-34f5c32ee2bb",
   "metadata": {},
   "outputs": [],
   "source": []
  },
  {
   "cell_type": "code",
   "execution_count": null,
   "id": "a636c332-74e1-4158-846d-d2605d5c09b7",
   "metadata": {},
   "outputs": [],
   "source": []
  }
 ],
 "metadata": {
  "kernelspec": {
   "display_name": "Python 3 (ipykernel)",
   "language": "python",
   "name": "python3"
  },
  "language_info": {
   "codemirror_mode": {
    "name": "ipython",
    "version": 3
   },
   "file_extension": ".py",
   "mimetype": "text/x-python",
   "name": "python",
   "nbconvert_exporter": "python",
   "pygments_lexer": "ipython3",
   "version": "3.11.8"
  }
 },
 "nbformat": 4,
 "nbformat_minor": 5
}
